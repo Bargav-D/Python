{
 "cells": [
  {
   "cell_type": "code",
   "execution_count": 1,
   "id": "457522b0-ddeb-4814-bac5-43ea4b07907e",
   "metadata": {},
   "outputs": [
    {
     "name": "stdout",
     "output_type": "stream",
     "text": [
      "Bargav\n",
      "1AY24AI028\n",
      "M section\n",
      "lion, tiger, elephant, and hyenas\n"
     ]
    }
   ],
   "source": [
    "print(\"Bargav\")\n",
    "print(\"1AY24AI028\")\n",
    "print(\"M section\")\n",
    "def comma_code(items):\n",
    "    if len(items) == 0:\n",
    "        return ''\n",
    "    elif len(items) == 1:\n",
    "        return items[0]\n",
    "    else:\n",
    "        return ', '.join(items[:-1]) + ', and ' + items[-1]\n",
    "my_list = [\"lion\", \"tiger\", \"elephant\", \"hyenas\"]\n",
    "result = comma_code(my_list)\n",
    "print(result)\n"
   ]
  },
  {
   "cell_type": "code",
   "execution_count": null,
   "id": "2cd520f0-4013-40a2-9d6f-f86f2d7bc94e",
   "metadata": {},
   "outputs": [],
   "source": []
  }
 ],
 "metadata": {
  "kernelspec": {
   "display_name": "Python 3 (ipykernel)",
   "language": "python",
   "name": "python3"
  },
  "language_info": {
   "codemirror_mode": {
    "name": "ipython",
    "version": 3
   },
   "file_extension": ".py",
   "mimetype": "text/x-python",
   "name": "python",
   "nbconvert_exporter": "python",
   "pygments_lexer": "ipython3",
   "version": "3.12.10"
  }
 },
 "nbformat": 4,
 "nbformat_minor": 5
}
