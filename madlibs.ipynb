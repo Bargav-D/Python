{
 "cells": [
  {
   "cell_type": "code",
   "execution_count": 2,
   "id": "d19408c7-4f2c-4fe4-b2e8-b5b04fb2498c",
   "metadata": {},
   "outputs": [
    {
     "name": "stdout",
     "output_type": "stream",
     "text": [
      "Bargav\n",
      "1AY24AI028\n",
      "M section\n",
      "Original Text:\n",
      " Today I went to the zoo. I saw a(n) ADJECTIVE NOUN jumping up and down in its tree.  \n",
      "He VERB ADVERB through the large tunnel that led to its NOUN.  \n",
      "I got some peanuts and passed them through the cage to a gigantic ADJECTIVE NOUN towering above my head.  \n",
      "Feeding that animal made me hungry. I went to get a ADJECTIVE scoop of ice cream.  \n",
      "It VERB ADVERB down my arm and onto my NOUN.\n"
     ]
    },
    {
     "name": "stdin",
     "output_type": "stream",
     "text": [
      "Enter a adjective:  beautiful\n",
      "Enter a noun:  lion\n",
      "Enter a verb:  hunt\n",
      "Enter a adverb:  dangers\n",
      "Enter a noun:  zebra\n",
      "Enter a adjective:  black and  white\n",
      "Enter a noun:  india\n",
      "Enter a adjective:  vast\n",
      "Enter a verb:  country\n",
      "Enter a adverb:  slowly\n",
      "Enter a noun:  bat\n"
     ]
    },
    {
     "name": "stdout",
     "output_type": "stream",
     "text": [
      "\n",
      "Modified Text:\n",
      " Today I went to the zoo. I saw a(n) beautiful lion jumping up and down in its tree.  \n",
      "He hunt dangers through the large tunnel that led to its zebra.  \n",
      "I got some peanuts and passed them through the cage to a gigantic black and  white india towering above my head.  \n",
      "Feeding that animal made me hungry. I went to get a vast scoop of ice cream.  \n",
      "It country slowly down my arm and onto my bat.\n",
      "\n",
      "Modified text saved to 'madlibs_output.txt'\n"
     ]
    }
   ],
   "source": [
    "''' Create a Mad Libs program that reads in text files and lets the user add their own text anywhere the word ADJECTIVE, NOUN, ADVERB, or VERB appears in the text file. For example, a text file may look like this:\n",
    "The ADJECTIVE panda walked to the NOUN and then VERB. A nearby NOUN was\n",
    "unaffected by these events.\n",
    "The program would find these occurrences and prompt the user to replace them.\n",
    "Enter an adjective:\n",
    "silly\n",
    "Enter a noun:\n",
    "chandelier\n",
    "Enter a verb:\n",
    "screamed\n",
    "Enter a noun:\n",
    "pickup truck\n",
    "The following text file would then be created:\n",
    "The silly panda walked to the chandelier and then screamed. A nearby pickup truck was unaffected by these events.\n",
    "The results should be printed to the screen and saved to a new text file\n",
    "'''\n",
    "print(\"Bargav\")\n",
    "print(\"1AY24AI028\")\n",
    "print(\"M section\")\n",
    "import re\n",
    "\n",
    "def madlibs():\n",
    "    text = '''Today I went to the zoo. I saw a(n) ADJECTIVE NOUN jumping up and down in its tree.  \n",
    "He VERB ADVERB through the large tunnel that led to its NOUN.  \n",
    "I got some peanuts and passed them through the cage to a gigantic ADJECTIVE NOUN towering above my head.  \n",
    "Feeding that animal made me hungry. I went to get a ADJECTIVE scoop of ice cream.  \n",
    "It VERB ADVERB down my arm and onto my NOUN.'''\n",
    "\n",
    "    print(\"Original Text:\\n\", text)\n",
    "\n",
    "    placeholders = re.findall(r'\\b(ADJECTIVE|NOUN|VERB|ADVERB)\\b', text)\n",
    "\n",
    "    for placeholder in placeholders:\n",
    "        word = input(f\"Enter a {placeholder.lower()}: \")\n",
    "        text = text.replace(placeholder, word, 1)\n",
    "\n",
    "    print(\"\\nModified Text:\\n\", text)\n",
    "\n",
    "    with open('madlibs_output.txt', 'w') as file:\n",
    "        file.write(text)\n",
    "\n",
    "    print(\"\\nModified text saved to 'madlibs_output.txt'\")\n",
    "\n",
    "madlibs()"
   ]
  },
  {
   "cell_type": "code",
   "execution_count": null,
   "id": "d100c140-125b-4873-9e41-db8119dc509a",
   "metadata": {},
   "outputs": [],
   "source": []
  }
 ],
 "metadata": {
  "kernelspec": {
   "display_name": "Python 3 (ipykernel)",
   "language": "python",
   "name": "python3"
  },
  "language_info": {
   "codemirror_mode": {
    "name": "ipython",
    "version": 3
   },
   "file_extension": ".py",
   "mimetype": "text/x-python",
   "name": "python",
   "nbconvert_exporter": "python",
   "pygments_lexer": "ipython3",
   "version": "3.12.10"
  }
 },
 "nbformat": 4,
 "nbformat_minor": 5
}
