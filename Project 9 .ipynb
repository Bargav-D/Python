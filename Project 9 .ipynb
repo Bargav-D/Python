{
 "cells": [
  {
   "cell_type": "code",
   "execution_count": null,
   "id": "08833bcc-d27a-4c9c-ad12-e43f75d9ac31",
   "metadata": {},
   "outputs": [
    {
     "name": "stdout",
     "output_type": "stream",
     "text": [
      "Bargav\n",
      "1AY24AI028\n",
      "M section\n",
      "\n",
      "1. Day of week\n",
      "2. Birthday info\n",
      "3. Double Day\n",
      "4. N-times Day\n",
      "5. Exit\n"
     ]
    },
    {
     "name": "stdin",
     "output_type": "stream",
     "text": [
      "Choose (1-5):  2\n",
      "Enter your birthday (YYYY-MM-DD):  2006-05-17\n"
     ]
    },
    {
     "name": "stdout",
     "output_type": "stream",
     "text": [
      "You are 19 years old.\n",
      "Time until next birthday: 328 days, 3 hours, 41 mins, 53 secs.\n",
      "\n",
      "1. Day of week\n",
      "2. Birthday info\n",
      "3. Double Day\n",
      "4. N-times Day\n",
      "5. Exit\n"
     ]
    }
   ],
   "source": [
    "'''Project 9 \n",
    "The datetime module provides time objects also they provide a rich set of methods and operators. Read the documentation at http: // docs. python. org/ 3/ library/ datetime. html . \n",
    "1. Use the datetime module to write a program that gets the current date and prints the day of the week. \n",
    "2. Write a program that takes a birthday as input and prints the user’s age and the number of days, hours, minutes and seconds until their next birthday. \n",
    "3. For two people born on different days, there is a day when one is twice as old as the other. That’s their Double Day. Write a program that takes two birth dates and computes their Double Day. \n",
    "4. For a little more challenge, write the more general version that computes the day when one person is n times older than the other.\n",
    "'''\n",
    "print(\"Bargav\")\n",
    "print(\"1AY24AI028\")\n",
    "print(\"M section\")\n",
    "from datetime import datetime, timedelta\n",
    "\n",
    "def show_day_of_week():\n",
    "    today = datetime.today()\n",
    "    print(\"Today is:\", today.strftime(\"%A\"))\n",
    "\n",
    "def birthday_info():\n",
    "    bday = input(\"Enter your birthday (YYYY-MM-DD): \")\n",
    "    bday = datetime.strptime(bday, \"%Y-%m-%d\")\n",
    "    now = datetime.now()\n",
    "    age = now.year - bday.year - ((now.month, now.day) < (bday.month, bday.day))\n",
    "    next_bday = bday.replace(year=now.year)\n",
    "    if next_bday < now:\n",
    "        next_bday = next_bday.replace(year=now.year + 1)\n",
    "    delta = next_bday - now\n",
    "    seconds = int(delta.total_seconds())\n",
    "    print(f\"You are {age} years old.\")\n",
    "    print(f\"Time until next birthday: {delta.days} days, {seconds//3600%24} hours, {seconds//60%60} mins, {seconds%60} secs.\")\n",
    "\n",
    "def double_day():\n",
    "    b1 = datetime.strptime(input(\"First birthday (YYYY-MM-DD): \"), \"%Y-%m-%d\")\n",
    "    b2 = datetime.strptime(input(\"Second birthday (YYYY-MM-DD): \"), \"%Y-%m-%d\")\n",
    "    older, younger = sorted([b1, b2])\n",
    "    double = older + 2 * (younger - older)\n",
    "    print(\"Double Day:\", double.date())\n",
    "\n",
    "def n_times_day():\n",
    "    b1 = datetime.strptime(input(\"First birthday (YYYY-MM-DD): \"), \"%Y-%m-%d\")\n",
    "    b2 = datetime.strptime(input(\"Second birthday (YYYY-MM-DD): \"), \"%Y-%m-%d\")\n",
    "    n = float(input(\"Enter n (e.g. 2 for double): \"))\n",
    "    older, younger = sorted([b1, b2])\n",
    "    target = older + timedelta(seconds=(younger - older).total_seconds() / (n - 1))\n",
    "    print(f\"{n} times older day:\", target.date())\n",
    "\n",
    "def main():\n",
    "    while True:\n",
    "        print(\"\\n1. Day of week\\n2. Birthday info\\n3. Double Day\\n4. N-times Day\\n5. Exit\")\n",
    "        choice = input(\"Choose (1-5): \")\n",
    "        if choice == '1': show_day_of_week()\n",
    "        elif choice == '2': birthday_info()\n",
    "        elif choice == '3': double_day()\n",
    "        elif choice == '4': n_times_day()\n",
    "        elif choice == '5': break\n",
    "        else: print(\"Try again.\")\n",
    "\n",
    "main()"
   ]
  },
  {
   "cell_type": "code",
   "execution_count": null,
   "id": "56657af4-5b53-4cba-8bc8-35615d8dd689",
   "metadata": {},
   "outputs": [],
   "source": []
  }
 ],
 "metadata": {
  "kernelspec": {
   "display_name": "Python 3 (ipykernel)",
   "language": "python",
   "name": "python3"
  },
  "language_info": {
   "codemirror_mode": {
    "name": "ipython",
    "version": 3
   },
   "file_extension": ".py",
   "mimetype": "text/x-python",
   "name": "python",
   "nbconvert_exporter": "python",
   "pygments_lexer": "ipython3",
   "version": "3.12.10"
  }
 },
 "nbformat": 4,
 "nbformat_minor": 5
}
