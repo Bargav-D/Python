{
 "cells": [
  {
   "cell_type": "code",
   "execution_count": 1,
   "id": "99c8f4ab-bd3c-400e-8842-37fe255c7992",
   "metadata": {},
   "outputs": [
    {
     "name": "stdout",
     "output_type": "stream",
     "text": [
      "Bargav\n",
      "1AY24AI028\n",
      "M section\n",
      "Looking in 'C:\\Users\\barga\\OneDrive\\Desktop\\Jupyter\\randomFolder' for files with extensions: .php, .py\n"
     ]
    }
   ],
   "source": [
    "'''Selective Copy\n",
    "Write a program that walks through a folder tree and searches for files with a certain file extension (such as .pdf or .jpg). Copy these files from whatever location they are in to a new folder.\n",
    "'''\n",
    "print(\"Bargav\")\n",
    "print(\"1AY24AI028\")\n",
    "print(\"M section\")\n",
    "import os\n",
    "import shutil\n",
    "\n",
    "def selective(source, extensions, destination):\n",
    "    source = os.path.abspath(source)\n",
    "    destination = os.path.abspath(destination)\n",
    "\n",
    "    print(f\"Looking in '{source}' for files with extensions: {', '.join(extensions)}\")\n",
    "\n",
    "    for foldername, subfolders, filenames in os.walk(source):\n",
    "        for filename in filenames:\n",
    "            _, ext = os.path.splitext(filename)\n",
    "            if ext.lower() in extensions:\n",
    "                source_file = os.path.join(foldername, filename)\n",
    "                print(f\"Copying '{source_file}' to '{destination}'\")\n",
    "                shutil.copy(source_file, destination)\n",
    "\n",
    "\n",
    "extensions = ['.php', '.py']\n",
    "source = 'randomFolder'\n",
    "destination = 'selectiveFolder'\n",
    "\n",
    "selective(source, extensions, destination)"
   ]
  },
  {
   "cell_type": "code",
   "execution_count": null,
   "id": "cd3b237f-8885-48de-9e33-7f58bee8cd5d",
   "metadata": {},
   "outputs": [],
   "source": []
  }
 ],
 "metadata": {
  "kernelspec": {
   "display_name": "Python 3 (ipykernel)",
   "language": "python",
   "name": "python3"
  },
  "language_info": {
   "codemirror_mode": {
    "name": "ipython",
    "version": 3
   },
   "file_extension": ".py",
   "mimetype": "text/x-python",
   "name": "python",
   "nbconvert_exporter": "python",
   "pygments_lexer": "ipython3",
   "version": "3.12.10"
  }
 },
 "nbformat": 4,
 "nbformat_minor": 5
}
