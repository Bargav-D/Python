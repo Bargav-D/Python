{
 "cells": [
  {
   "cell_type": "code",
   "execution_count": 1,
   "id": "87856dbc-4597-44cc-92ed-e42475434442",
   "metadata": {},
   "outputs": [
    {
     "name": "stdout",
     "output_type": "stream",
     "text": [
      "Bargav\n",
      "1AY24AI028\n",
      "M section\n",
      "Average pace per mile: 00:27:00\n"
     ]
    }
   ],
   "source": [
    "'''Project 8 \n",
    "Write a function called mul_time that takes a Time object and a number and returns a new Time object that contains the product of the original Time and the number. Then use mul_time to write a function that takes a Time object that represents the finishing time in a race, and a number that represents the distance, and returns a Time object that represents the average pace (time per mile). \n",
    "'''\n",
    "print(\"Bargav\")\n",
    "print(\"1AY24AI028\")\n",
    "print(\"M section\")\n",
    "class Time:\n",
    "    def __init__(self, hour=0, minute=0, second=0):\n",
    "        self.hour = hour\n",
    "        self.minute = minute\n",
    "        self.second = second\n",
    "\n",
    "def time_to_seconds(t):\n",
    "    return t.hour * 3600 + t.minute * 60 + t.second\n",
    "\n",
    "def seconds_to_time(seconds):\n",
    "    hour, rem = divmod(int(seconds), 3600)\n",
    "    minute, second = divmod(rem, 60)\n",
    "    return Time(hour, minute, second)\n",
    "\n",
    "def multiply_time(t, factor):\n",
    "    return seconds_to_time(time_to_seconds(t) * factor)\n",
    "\n",
    "def average_pace(finish_time, distance):\n",
    "    return multiply_time(finish_time, 1 / distance)\n",
    "\n",
    "\n",
    "finish = Time(1, 23, 45)\n",
    "distance = 3.1\n",
    "\n",
    "pace = average_pace(finish, distance)\n",
    "print(f\"Average pace per mile: {pace.hour:02d}:{pace.minute:02d}:{pace.second:02d}\")\n"
   ]
  },
  {
   "cell_type": "code",
   "execution_count": null,
   "id": "c5333fe4-20f7-4333-9d60-13fdeb5f9370",
   "metadata": {},
   "outputs": [],
   "source": []
  }
 ],
 "metadata": {
  "kernelspec": {
   "display_name": "Python 3 (ipykernel)",
   "language": "python",
   "name": "python3"
  },
  "language_info": {
   "codemirror_mode": {
    "name": "ipython",
    "version": 3
   },
   "file_extension": ".py",
   "mimetype": "text/x-python",
   "name": "python",
   "nbconvert_exporter": "python",
   "pygments_lexer": "ipython3",
   "version": "3.12.10"
  }
 },
 "nbformat": 4,
 "nbformat_minor": 5
}
