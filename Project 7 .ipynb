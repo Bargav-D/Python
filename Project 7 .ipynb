{
 "cells": [
  {
   "cell_type": "code",
   "execution_count": 1,
   "id": "3a7279f7-e299-459b-8dae-2a782ff4fdc1",
   "metadata": {},
   "outputs": [
    {
     "name": "stdout",
     "output_type": "stream",
     "text": [
      "Bargav\n",
      "1AY24AI028\n",
      "M section\n",
      "True\n",
      "False\n",
      "True\n",
      "True\n"
     ]
    }
   ],
   "source": [
    "'''Project 7 \n",
    "Write a definition for a class named Circle with attributes center and radius, where center is a Point object and radius is a number. Instantiate a Circle object that represents a circle with its center at (150, 100) and radius 75. Write a function named point_in_circle that takes a Circle and a Point and returns True if the Point lies in or on the boundary of the circle. Write a function named rect_in_circle that takes a Circle and a Rectangle and returns True if the Rectangle lies entirely in or on the boundary of the circle. Write a function named rect_circle_overlap that takes a Circle and a Rectangle and returns True if any of the corners of the Rectangle fall inside the Circle. Or as a more challenging version, return True if any part of the Rectangle falls inside the Circle.\n",
    "'''\n",
    "print(\"Bargav\")\n",
    "print(\"1AY24AI028\")\n",
    "print(\"M section\")\n",
    "import math\n",
    "\n",
    "class Point:\n",
    "    def __init__(self, x, y): self.x, self.y = x, y\n",
    "\n",
    "class Circle:\n",
    "    def __init__(self, center, radius): self.center, self.radius = center, radius\n",
    "\n",
    "class Rectangle:\n",
    "    def __init__(self, corner, width, height): self.corner, self.width, self.height = corner, width, height\n",
    "\n",
    "def point_in_circle(circle, point):\n",
    "    dx = point.x - circle.center.x\n",
    "    dy = point.y - circle.center.y\n",
    "    return math.hypot(dx, dy) <= circle.radius\n",
    "\n",
    "def rect_in_circle(circle, rect):\n",
    "    return all(point_in_circle(circle, Point(rect.corner.x + dx, rect.corner.y + dy))\n",
    "               for dx in (0, rect.width) for dy in (0, rect.height))\n",
    "\n",
    "def rect_circle_overlap(circle, rect):\n",
    "    return any(point_in_circle(circle, Point(rect.corner.x + dx, rect.corner.y + dy))\n",
    "               for dx in (0, rect.width) for dy in (0, rect.height))\n",
    "\n",
    "# Test\n",
    "c = Circle(Point(150, 100), 75)\n",
    "r = Rectangle(Point(100, 50), 100, 50)\n",
    "print(point_in_circle(c, Point(150, 100)))     \n",
    "print(point_in_circle(c, Point(230, 100)))     \n",
    "print(rect_in_circle(c, r))                    \n",
    "print(rect_circle_overlap(c, r))               "
   ]
  },
  {
   "cell_type": "code",
   "execution_count": null,
   "id": "e455deb0-cf76-4b61-9cca-0da49eba1737",
   "metadata": {},
   "outputs": [],
   "source": []
  }
 ],
 "metadata": {
  "kernelspec": {
   "display_name": "Python 3 (ipykernel)",
   "language": "python",
   "name": "python3"
  },
  "language_info": {
   "codemirror_mode": {
    "name": "ipython",
    "version": 3
   },
   "file_extension": ".py",
   "mimetype": "text/x-python",
   "name": "python",
   "nbconvert_exporter": "python",
   "pygments_lexer": "ipython3",
   "version": "3.12.10"
  }
 },
 "nbformat": 4,
 "nbformat_minor": 5
}
