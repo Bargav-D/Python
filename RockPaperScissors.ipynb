{
 "cells": [
  {
   "cell_type": "code",
   "execution_count": null,
   "id": "6cb0ca0c-4aa4-45f8-ace9-7ea1a1adf91d",
   "metadata": {},
   "outputs": [
    {
     "name": "stdout",
     "output_type": "stream",
     "text": [
      "Bargav\n",
      "1AY24AI028\n",
      "M section\n"
     ]
    }
   ],
   "source": [
    "print(\"Bargav\")\n",
    "print(\"1AY24AI028\")\n",
    "print(\"M section\")\n",
    "import random as ran \n",
    "n=ran.randint(0,3)\n",
    "s=int(input(\"Enter the number of times to play:\"))\n",
    "for i in range(s):\n",
    "    a=int(input(\"Enter a number 0(rock),1(paper),2(scissor) or any number to exit:\"))\n",
    "    if a==0:\n",
    "        print(\"You chose rock\")\n",
    "        if n==1:\n",
    "            print(\"I chose paper\")\n",
    "            print(\"I Won\")\n",
    "        elif n==2:\n",
    "            print(\"I chose scissors\")\n",
    "            print(\"You Won\")\n",
    "        else:\n",
    "            print (\"I chose rock\")\n",
    "            print(\"No one won\")\n",
    "    elif a==1:\n",
    "        print(\"You chose paper\")\n",
    "        if n==1:\n",
    "            print(\"I chose paper\")\n",
    "            print(\"no one Won\")\n",
    "        elif n==2:\n",
    "            print(\"I chose scissors\")\n",
    "            print(\"i Won\")\n",
    "        else:\n",
    "            print (\"I chose rock\")\n",
    "            print(\"you won\")\n",
    "    elif a==2:\n",
    "        print(\"You chose scissors\")\n",
    "        if n==1:\n",
    "            print(\"I chose paper\")\n",
    "            print(\"you Won\")\n",
    "        elif n==2:\n",
    "            print(\"I chose scissors\")\n",
    "            print(\"no one Won\")\n",
    "        else:\n",
    "            print (\"I  chose rock\")\n",
    "            print(\"i won\")"
   ]
  },
  {
   "cell_type": "code",
   "execution_count": null,
   "id": "7e8682a6-bf9a-4e1c-bb3e-674c578ed115",
   "metadata": {},
   "outputs": [],
   "source": []
  }
 ],
 "metadata": {
  "kernelspec": {
   "display_name": "Python 3 (ipykernel)",
   "language": "python",
   "name": "python3"
  },
  "language_info": {
   "codemirror_mode": {
    "name": "ipython",
    "version": 3
   },
   "file_extension": ".py",
   "mimetype": "text/x-python",
   "name": "python",
   "nbconvert_exporter": "python",
   "pygments_lexer": "ipython3",
   "version": "3.12.10"
  }
 },
 "nbformat": 4,
 "nbformat_minor": 5
}
