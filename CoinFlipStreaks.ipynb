{
 "cells": [
  {
   "cell_type": "code",
   "execution_count": 4,
   "id": "d330752c-4507-4f2b-af1d-c95ec7001c0a",
   "metadata": {},
   "outputs": [
    {
     "name": "stdout",
     "output_type": "stream",
     "text": [
      "Bargav\n",
      "1AY24AI028\n",
      "M section\n",
      "Chances of streak of 6 in a row: 100.0 %\n"
     ]
    }
   ],
   "source": [
    "print(\"Bargav\")\n",
    "print(\"1AY24AI028\")\n",
    "print(\"M section\")\n",
    "import random as ran \n",
    "def streak(flip):\n",
    "    for i in range(len(flip)-5):\n",
    "        streak=flip[i:i+6]\n",
    "        if all(j=='H' for j in streak) or all(j=='T' for j in streak):\n",
    "            return True\n",
    "    return False\n",
    "streaks=0\n",
    "for k in range(0,10000):\n",
    "    flips=['H' if ran.randint(0,1)==0 \n",
    "           else'T' for k in range(1000)]\n",
    "    if streak(flips):\n",
    "        streaks+=1\n",
    "final=streaks/100\n",
    "print(\"Chances of streak of 6 in a row:\",final,\"%\")"
   ]
  }
 ],
 "metadata": {
  "kernelspec": {
   "display_name": "Python 3 (ipykernel)",
   "language": "python",
   "name": "python3"
  },
  "language_info": {
   "codemirror_mode": {
    "name": "ipython",
    "version": 3
   },
   "file_extension": ".py",
   "mimetype": "text/x-python",
   "name": "python",
   "nbconvert_exporter": "python",
   "pygments_lexer": "ipython3",
   "version": "3.12.10"
  }
 },
 "nbformat": 4,
 "nbformat_minor": 5
}
