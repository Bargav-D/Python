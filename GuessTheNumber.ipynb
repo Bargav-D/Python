{
 "cells": [
  {
   "cell_type": "code",
   "execution_count": null,
   "id": "67f16792-d2be-4e69-b4fc-d4aad0947b18",
   "metadata": {},
   "outputs": [],
   "source": [
    "print(\"Bargav\")\n",
    "print(\"1AY24AI028\")\n",
    "print(\"M section\")\n",
    "import random as ran\n",
    "n=ran.randint(1,101)\n",
    "while True:\n",
    "    a=int(input(\"Enter any number between 1 and 100:\"))\n",
    "    if a<n:\n",
    "        print(\"Your guess is low\")\n",
    "        continue\n",
    "    elif a>n:\n",
    "        print(\"Your guess is high\")\n",
    "        continue\n",
    "    else:\n",
    "        print(\"You are correct\")\n",
    "        break"
   ]
  }
 ],
 "metadata": {
  "kernelspec": {
   "display_name": "Python 3 (ipykernel)",
   "language": "python",
   "name": "python3"
  },
  "language_info": {
   "codemirror_mode": {
    "name": "ipython",
    "version": 3
   },
   "file_extension": ".py",
   "mimetype": "text/x-python",
   "name": "python",
   "nbconvert_exporter": "python",
   "pygments_lexer": "ipython3",
   "version": "3.12.10"
  }
 },
 "nbformat": 4,
 "nbformat_minor": 5
}
