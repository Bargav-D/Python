{
 "cells": [
  {
   "cell_type": "code",
   "execution_count": 2,
   "id": "5b0ca4f6-c4fe-438c-87ee-4eb50089a5be",
   "metadata": {},
   "outputs": [
    {
     "name": "stdout",
     "output_type": "stream",
     "text": [
      "Bargav\n",
      "1AY24AI028\n",
      "M section\n",
      "Guess the coin toss! Enter heads or tails:\n"
     ]
    },
    {
     "name": "stdin",
     "output_type": "stream",
     "text": [
      " heads\n"
     ]
    },
    {
     "name": "stdout",
     "output_type": "stream",
     "text": [
      "You got it!\n"
     ]
    }
   ],
   "source": [
    "'''Debugging Coin Toss\n",
    "The following program is meant to be a simple coin toss guessing game. The player gets two guesses (it’s an easy game). However, the program has several bugs in it. Run through the program a few times to find the bugs that keep the program from working correctly.\n",
    "import random\n",
    "guess = ''\n",
    "while guess not in ('heads', 'tails'):\n",
    "    print('Guess the coin toss! Enter heads or tails:')\n",
    "    guess = input()\n",
    "toss = random.randint(0, 1) # 0 is tails, 1 is heads\n",
    "if toss == guess:\n",
    "    print('You got it!')\n",
    "else:\n",
    "    print('Nope! Guess again!')\n",
    "    guesss = input()\n",
    "    if toss == guess:\n",
    "        print('You got it!')\n",
    "    else:\n",
    "        print('Nope. You are really bad at this game.')\n",
    "'''\n",
    "print(\"Bargav\")\n",
    "print(\"1AY24AI028\")\n",
    "print(\"M section\")\n",
    "import random\n",
    "guess = ''\n",
    "while guess not in ('heads', 'tails'):\n",
    "    print('Guess the coin toss! Enter heads or tails:')\n",
    "    guess = input().lower()  \n",
    "toss = random.randint(0, 1)\n",
    "if (toss == 1 and guess == 'heads') or (toss == 0 and guess == 'tails'):\n",
    "    print('You got it!')\n",
    "else:\n",
    "    print('Nope! Guess again!')\n",
    "    guess = input().lower()\n",
    "    if (toss == 1 and guess == 'heads') or (toss == 0 and guess == 'tails'):\n",
    "        print('You got it!')\n",
    "    else:\n",
    "        print('Nope. You are really bad at this game.')"
   ]
  },
  {
   "cell_type": "code",
   "execution_count": null,
   "id": "a358c8c0-8eab-44fe-ab64-4e41fa2ee102",
   "metadata": {},
   "outputs": [],
   "source": []
  }
 ],
 "metadata": {
  "kernelspec": {
   "display_name": "Python 3 (ipykernel)",
   "language": "python",
   "name": "python3"
  },
  "language_info": {
   "codemirror_mode": {
    "name": "ipython",
    "version": 3
   },
   "file_extension": ".py",
   "mimetype": "text/x-python",
   "name": "python",
   "nbconvert_exporter": "python",
   "pygments_lexer": "ipython3",
   "version": "3.12.10"
  }
 },
 "nbformat": 4,
 "nbformat_minor": 5
}
