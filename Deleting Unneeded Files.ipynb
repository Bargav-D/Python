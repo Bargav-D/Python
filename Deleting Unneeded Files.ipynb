{
 "cells": [
  {
   "cell_type": "code",
   "execution_count": 1,
   "id": "849b9d27-54c3-4e85-832b-d1c5286590a3",
   "metadata": {},
   "outputs": [
    {
     "name": "stdout",
     "output_type": "stream",
     "text": [
      "Bargav\n",
      "1AY24AI028\n",
      "M section\n",
      "C:\\Users\\barga\\AppData\\Local\\BraveSoftware\\Brave-Browser\\User Data\\Default\\Cache\\Cache_Data\\data_3 - 140.01 MB\n",
      "C:\\Users\\barga\\AppData\\Local\\Discord\\app-1.0.9196\\Discord.exe - 180.62 MB\n",
      "C:\\Users\\barga\\AppData\\Local\\Discord\\packages\\Discord-1.0.9166-full.nupkg - 112.83 MB\n",
      "C:\\Users\\barga\\AppData\\Local\\Google\\Chrome\\User Data\\Profile 1\\Cache\\Cache_Data\\data_3 - 128.01 MB\n",
      "C:\\Users\\barga\\AppData\\Local\\Google\\Chrome\\User Data\\Profile 3\\Cache\\Cache_Data\\data_3 - 108.01 MB\n",
      "Error accessing C:\\Users\\barga\\AppData\\Local\\Packages\\AD2F1837.HPPrinterControl_v10z8vjag6ke6\\LocalState\\IsolatedStorage\\Url.3o1xmay1fud40xsxob03v3bwjtjiglqm\\Url.3o1xmay1fud40xsxob03v3bwjtjiglqm\\Files\\LaunchDarkly_NIz3DT-AyPaNBpTwoCU1QBuI62TPF3SNlqMDgms7A3k=\\flags_94TC6UtRuSYELFyTKUGcScp9rMVGu_fHI7ttd_o42a0=: [WinError 3] The system cannot find the path specified: 'C:\\\\Users\\\\barga\\\\AppData\\\\Local\\\\Packages\\\\AD2F1837.HPPrinterControl_v10z8vjag6ke6\\\\LocalState\\\\IsolatedStorage\\\\Url.3o1xmay1fud40xsxob03v3bwjtjiglqm\\\\Url.3o1xmay1fud40xsxob03v3bwjtjiglqm\\\\Files\\\\LaunchDarkly_NIz3DT-AyPaNBpTwoCU1QBuI62TPF3SNlqMDgms7A3k=\\\\flags_94TC6UtRuSYELFyTKUGcScp9rMVGu_fHI7ttd_o42a0='\n",
      "Error accessing C:\\Users\\barga\\AppData\\Local\\Packages\\AD2F1837.HPPrinterControl_v10z8vjag6ke6\\LocalState\\IsolatedStorage\\Url.5taer15cz1u0dviom0xa1njg2bvppvjq\\Url.5taer15cz1u0dviom0xa1njg2bvppvjq\\Files\\LaunchDarkly_NIz3DT-AyPaNBpTwoCU1QBuI62TPF3SNlqMDgms7A3k=\\flags_rZ7rjw2u6fUMtU3u-YXFhnfJLjoMRYyeKZcTgnRhyVI=: [WinError 3] The system cannot find the path specified: 'C:\\\\Users\\\\barga\\\\AppData\\\\Local\\\\Packages\\\\AD2F1837.HPPrinterControl_v10z8vjag6ke6\\\\LocalState\\\\IsolatedStorage\\\\Url.5taer15cz1u0dviom0xa1njg2bvppvjq\\\\Url.5taer15cz1u0dviom0xa1njg2bvppvjq\\\\Files\\\\LaunchDarkly_NIz3DT-AyPaNBpTwoCU1QBuI62TPF3SNlqMDgms7A3k=\\\\flags_rZ7rjw2u6fUMtU3u-YXFhnfJLjoMRYyeKZcTgnRhyVI='\n",
      "Error accessing C:\\Users\\barga\\AppData\\Local\\Packages\\AD2F1837.HPPrinterControl_v10z8vjag6ke6\\LocalState\\IsolatedStorage\\Url.b0uxopimau1lbngfoalixidtp3epslbd\\Url.b0uxopimau1lbngfoalixidtp3epslbd\\Files\\LaunchDarkly_NIz3DT-AyPaNBpTwoCU1QBuI62TPF3SNlqMDgms7A3k=\\flags_Qi8WvucL06rmvwmOk0ZJl-fDDpGZUTtiyNRAJybovVI=: [WinError 3] The system cannot find the path specified: 'C:\\\\Users\\\\barga\\\\AppData\\\\Local\\\\Packages\\\\AD2F1837.HPPrinterControl_v10z8vjag6ke6\\\\LocalState\\\\IsolatedStorage\\\\Url.b0uxopimau1lbngfoalixidtp3epslbd\\\\Url.b0uxopimau1lbngfoalixidtp3epslbd\\\\Files\\\\LaunchDarkly_NIz3DT-AyPaNBpTwoCU1QBuI62TPF3SNlqMDgms7A3k=\\\\flags_Qi8WvucL06rmvwmOk0ZJl-fDDpGZUTtiyNRAJybovVI='\n",
      "Error accessing C:\\Users\\barga\\AppData\\Local\\Packages\\AD2F1837.HPPrinterControl_v10z8vjag6ke6\\LocalState\\IsolatedStorage\\Url.jyf0ri0msbjmcxv02ibheidlo3clh43o\\Url.jyf0ri0msbjmcxv02ibheidlo3clh43o\\Files\\LaunchDarkly_NIz3DT-AyPaNBpTwoCU1QBuI62TPF3SNlqMDgms7A3k=\\flags_hgU-ea2hclMo4pwbUeExHWxH3g_OxxDZmXFl2epAvss=: [WinError 3] The system cannot find the path specified: 'C:\\\\Users\\\\barga\\\\AppData\\\\Local\\\\Packages\\\\AD2F1837.HPPrinterControl_v10z8vjag6ke6\\\\LocalState\\\\IsolatedStorage\\\\Url.jyf0ri0msbjmcxv02ibheidlo3clh43o\\\\Url.jyf0ri0msbjmcxv02ibheidlo3clh43o\\\\Files\\\\LaunchDarkly_NIz3DT-AyPaNBpTwoCU1QBuI62TPF3SNlqMDgms7A3k=\\\\flags_hgU-ea2hclMo4pwbUeExHWxH3g_OxxDZmXFl2epAvss='\n",
      "Error accessing C:\\Users\\barga\\AppData\\Local\\Packages\\AD2F1837.HPPrinterControl_v10z8vjag6ke6\\LocalState\\IsolatedStorage\\Url.s1sfiabmjapoiqfyijdmscqno034n1eu\\Url.s1sfiabmjapoiqfyijdmscqno034n1eu\\Files\\LaunchDarkly_NIz3DT-AyPaNBpTwoCU1QBuI62TPF3SNlqMDgms7A3k=\\flags_jpdi9Tt537z4A2MvfOYcHxHsi0XPON5chicobpNiLpQ=: [WinError 3] The system cannot find the path specified: 'C:\\\\Users\\\\barga\\\\AppData\\\\Local\\\\Packages\\\\AD2F1837.HPPrinterControl_v10z8vjag6ke6\\\\LocalState\\\\IsolatedStorage\\\\Url.s1sfiabmjapoiqfyijdmscqno034n1eu\\\\Url.s1sfiabmjapoiqfyijdmscqno034n1eu\\\\Files\\\\LaunchDarkly_NIz3DT-AyPaNBpTwoCU1QBuI62TPF3SNlqMDgms7A3k=\\\\flags_jpdi9Tt537z4A2MvfOYcHxHsi0XPON5chicobpNiLpQ='\n",
      "Error accessing C:\\Users\\barga\\AppData\\Local\\Packages\\AD2F1837.HPPrinterControl_v10z8vjag6ke6\\LocalState\\IsolatedStorage\\Url.t1hnpqrj0owm0mjfuzo0ixjprwmgxdt3\\Url.t1hnpqrj0owm0mjfuzo0ixjprwmgxdt3\\Files\\LaunchDarkly_NIz3DT-AyPaNBpTwoCU1QBuI62TPF3SNlqMDgms7A3k=\\flags__Yn4o6GZEz2wABqLptAYs1ndkC3WI7QPdnENelvlosE=: [WinError 3] The system cannot find the path specified: 'C:\\\\Users\\\\barga\\\\AppData\\\\Local\\\\Packages\\\\AD2F1837.HPPrinterControl_v10z8vjag6ke6\\\\LocalState\\\\IsolatedStorage\\\\Url.t1hnpqrj0owm0mjfuzo0ixjprwmgxdt3\\\\Url.t1hnpqrj0owm0mjfuzo0ixjprwmgxdt3\\\\Files\\\\LaunchDarkly_NIz3DT-AyPaNBpTwoCU1QBuI62TPF3SNlqMDgms7A3k=\\\\flags__Yn4o6GZEz2wABqLptAYs1ndkC3WI7QPdnENelvlosE='\n",
      "C:\\Users\\barga\\AppData\\Local\\Programs\\Microsoft VS Code\\Code.exe - 174.06 MB\n",
      "C:\\Users\\barga\\Downloads\\DiscordSetup.exe - 113.67 MB\n",
      "C:\\Users\\barga\\Downloads\\pycharm-community-2024.3.1.1.exe - 517.59 MB\n",
      "C:\\Users\\barga\\OneDrive\\Pictures\\Camera Roll\\WIN_20250523_09_02_05_Pro.mp4 - 106.77 MB\n"
     ]
    }
   ],
   "source": [
    "'''Deleting Unneeded Files\n",
    "It's not uncommon for a few unneeded but humongous files or folders to take up the bulk of the space on your hard drive. If you’re trying to free up room on your computer, you’ll get the most bang for your buck by deleting the most massive of the unwanted files. But first you have to find them.Write a program that walks through a folder tree and searches for exceptionally large files or folders—say, ones that have a file size of more than 100MB. (Remember that to get a file’s size, you can use os.path.getsize() from the os module.) Print these files with their absolute path to the screen.\n",
    "'''\n",
    "print(\"Bargav\")\n",
    "print(\"1AY24AI028\")\n",
    "print(\"M section\")\n",
    "import os\n",
    "import pathlib\n",
    "def find(folder, size_limit=100 * 1024 * 1024):\n",
    "    for dirpath, dirnames, filenames in os.walk(folder):\n",
    "        for filename in filenames:\n",
    "            file_path = os.path.join(dirpath, filename)\n",
    "            try:\n",
    "                file_size = os.path.getsize(file_path)\n",
    "                if file_size > size_limit:\n",
    "                    print(f\"{file_path} - {file_size / (1024 * 1024):.2f} MB\")\n",
    "            except OSError as e:\n",
    "                print(f\"Error accessing {file_path}: {e}\")\n",
    "find(pathlib.Path.home())"
   ]
  },
  {
   "cell_type": "code",
   "execution_count": null,
   "id": "ee6cc080-f178-475a-a58e-a0a8c170f9b7",
   "metadata": {},
   "outputs": [],
   "source": []
  }
 ],
 "metadata": {
  "kernelspec": {
   "display_name": "Python 3 (ipykernel)",
   "language": "python",
   "name": "python3"
  },
  "language_info": {
   "codemirror_mode": {
    "name": "ipython",
    "version": 3
   },
   "file_extension": ".py",
   "mimetype": "text/x-python",
   "name": "python",
   "nbconvert_exporter": "python",
   "pygments_lexer": "ipython3",
   "version": "3.12.10"
  }
 },
 "nbformat": 4,
 "nbformat_minor": 5
}
