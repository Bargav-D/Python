{
 "cells": [
  {
   "cell_type": "code",
   "execution_count": 1,
   "id": "13577184-ad1f-4f84-ba72-a39209103d48",
   "metadata": {},
   "outputs": [
    {
     "name": "stdout",
     "output_type": "stream",
     "text": [
      "Bargav\n",
      "1AY24AI028\n",
      "M section\n",
      "Renamed spam2.txt → spam1.txt\n",
      "Gaps filled successfully.\n"
     ]
    }
   ],
   "source": [
    "'''Filling in the Gaps\n",
    "Write a program that finds all files with a given prefix, such as spam001.txt, spam002.txt, and so on, in a single folder and locates any gaps in the numbering (such as if there is a spam001.txt and spam003.txt but no spam002.txt). Have the program rename all the later files to close this gap. As an added challenge, write another program that can insert gaps into numbered files so that a new file can be added.\n",
    "'''\n",
    "print(\"Bargav\")\n",
    "print(\"1AY24AI028\")\n",
    "print(\"M section\")\n",
    "import os\n",
    "import re\n",
    "\n",
    "def fillgap(folder, prefix='spam', extension='.txt'):\n",
    "    # Regex to match files like spam001.txt\n",
    "    pattern = re.compile(rf'^{prefix}(\\d+){re.escape(extension)}$')\n",
    "\n",
    "    files = []\n",
    "    for f in os.listdir(folder):\n",
    "        match = pattern.match(f)\n",
    "        if match:\n",
    "            number = int(match.group(1))\n",
    "            files.append((number, f))\n",
    "\n",
    "    if not files:\n",
    "        print(\"No matching files found.\")\n",
    "        return\n",
    "\n",
    "    # Sort files based on number\n",
    "    files.sort()\n",
    "    \n",
    "    # Get number width (e.g., 3 for spam001)\n",
    "    number_width = len(re.search(r'\\d+', files[0][1]).group())\n",
    "\n",
    "    expected_num = 1\n",
    "    for actual_num, filename in files:\n",
    "        if actual_num != expected_num:\n",
    "            # Rename file to close the gap\n",
    "            new_name = f\"{prefix}{str(expected_num).zfill(number_width)}{extension}\"\n",
    "            old_path = os.path.join(folder, filename)\n",
    "            new_path = os.path.join(folder, new_name)\n",
    "            os.rename(old_path, new_path)\n",
    "            print(f\"Renamed {filename} → {new_name}\")\n",
    "        expected_num += 1\n",
    "\n",
    "    print(\"Gaps filled successfully.\")\n",
    "\n",
    "# Example usage\n",
    "fillgap(os.getcwd(), 'spam', '.txt')"
   ]
  },
  {
   "cell_type": "code",
   "execution_count": null,
   "id": "e5891c57-4cb1-43b3-b5dc-99edb808d660",
   "metadata": {},
   "outputs": [],
   "source": []
  }
 ],
 "metadata": {
  "kernelspec": {
   "display_name": "Python 3 (ipykernel)",
   "language": "python",
   "name": "python3"
  },
  "language_info": {
   "codemirror_mode": {
    "name": "ipython",
    "version": 3
   },
   "file_extension": ".py",
   "mimetype": "text/x-python",
   "name": "python",
   "nbconvert_exporter": "python",
   "pygments_lexer": "ipython3",
   "version": "3.12.10"
  }
 },
 "nbformat": 4,
 "nbformat_minor": 5
}
