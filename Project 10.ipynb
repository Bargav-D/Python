{
 "cells": [
  {
   "cell_type": "code",
   "execution_count": 2,
   "id": "f334c527-bbdf-497f-aefa-ab79d1773020",
   "metadata": {},
   "outputs": [
    {
     "name": "stdout",
     "output_type": "stream",
     "text": [
      "Bargav\n",
      "1AY24AI028\n",
      "M section\n",
      "Start time: 09:45:00\n",
      "End time: 35100:22:17\n",
      "Is end time after start time? True\n",
      "Start time + 1000 seconds: 10:01:40\n",
      "Start time + 1 hour: 10:45:00\n"
     ]
    }
   ],
   "source": [
    "'''Project 10\n",
    "Download the code from this chapter from https: // thinkpython. com/ code/ Time2. py . Change the attributes of Time to be a single integer representing seconds since midnight. Then modify the methods (and the function int__to__time) to work with the new implementation. You should not have to modify the test code in main. When you are done, the output should be the same as before. \n",
    "'''\n",
    "print(\"Bargav\")\n",
    "print(\"1AY24AI028\")\n",
    "print(\"M section\")\n",
    "class Time:\n",
    "    def __init__(self, hour=0, minute=0, second=0):\n",
    "        self.seconds = hour * 3600 + minute * 60 + second\n",
    "\n",
    "    def __str__(self):\n",
    "        minutes, seconds = divmod(self.seconds, 60)\n",
    "        hours, minutes = divmod(minutes, 60)\n",
    "        return f'{hours:02d}:{minutes:02d}:{seconds:02d}'\n",
    "\n",
    "    def increment(self, seconds):\n",
    "        self.seconds += seconds\n",
    "        return self  \n",
    "    \n",
    "    def is__after(self, other):\n",
    "        return self.seconds > other.seconds\n",
    "\n",
    "    def __add__(self, other):\n",
    "        if isinstance(other, Time):\n",
    "            return Time(0, 0, self.seconds + other.seconds)\n",
    "        else:\n",
    "            return Time(0, 0, self.seconds + other)\n",
    "\n",
    "def int__to__time(seconds):\n",
    "    return Time(0, 0, seconds)\n",
    "\n",
    "def main():\n",
    "    start__time = Time(9, 45, 0)\n",
    "    print(f\"Start time: {start__time}\")\n",
    "\n",
    "    end__time = Time(start__time.seconds)  \n",
    "    end__time.increment(1337)\n",
    "    print(f\"End time: {end__time}\")\n",
    "    print(f\"Is end time after start time? {end__time.is__after(start__time)}\")\n",
    "    print(f\"Start time + 1000 seconds: {start__time + 1000}\")\n",
    "    print(f\"Start time + 1 hour: {start__time + 3600}\")\n",
    "    \n",
    "main()"
   ]
  },
  {
   "cell_type": "code",
   "execution_count": null,
   "id": "135b59f6-9c27-48f8-9cd6-8a9647deb00d",
   "metadata": {},
   "outputs": [],
   "source": []
  }
 ],
 "metadata": {
  "kernelspec": {
   "display_name": "Python 3 (ipykernel)",
   "language": "python",
   "name": "python3"
  },
  "language_info": {
   "codemirror_mode": {
    "name": "ipython",
    "version": 3
   },
   "file_extension": ".py",
   "mimetype": "text/x-python",
   "name": "python",
   "nbconvert_exporter": "python",
   "pygments_lexer": "ipython3",
   "version": "3.12.10"
  }
 },
 "nbformat": 4,
 "nbformat_minor": 5
}
