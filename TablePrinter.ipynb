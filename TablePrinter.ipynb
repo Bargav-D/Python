{
 "cells": [
  {
   "cell_type": "code",
   "execution_count": null,
   "id": "858e8dda-6922-42f3-bef2-7b4f5e89b9e0",
   "metadata": {},
   "outputs": [],
   "source": [
    "print(\"Bargav\")\n",
    "print(\"1AY24AI028\")\n",
    "print(\"M section\")\n",
    "def print_table_with_lines(table):\n",
    "    col_widths = [max(len(str(item)) for item in col) for col in table]\n",
    "    num_rows = len(table[0])\n",
    "    num_cols = len(table)\n",
    "\n",
    "    def print_border():\n",
    "        border = '+'\n",
    "        for width in col_widths:\n",
    "            border += '-' * (width + 2) + '+'\n",
    "        print(border)\n",
    "\n",
    "    for row in range(num_rows):\n",
    "        print_border()\n",
    "        row_line = '|'\n",
    "        for col in range(num_cols):\n",
    "            item = table[col][row]\n",
    "            row_line += f' {item.rjust(col_widths[col])} |'\n",
    "        print(row_line)\n",
    "    print_border()\n",
    "\n",
    "table_data = [\n",
    "    ['apples', 'oranges', 'cherries', 'banana'],\n",
    "    ['Alice', 'Bob', 'Carol', 'David'],\n",
    "    ['dogs', 'cats', 'moose', 'goose']\n",
    "]\n",
    "\n",
    "print_table_with_lines(table_data)"
   ]
  }
 ],
 "metadata": {
  "kernelspec": {
   "display_name": "Python 3 (ipykernel)",
   "language": "python",
   "name": "python3"
  },
  "language_info": {
   "codemirror_mode": {
    "name": "ipython",
    "version": 3
   },
   "file_extension": ".py",
   "mimetype": "text/x-python",
   "name": "python",
   "nbconvert_exporter": "python",
   "pygments_lexer": "ipython3",
   "version": "3.12.10"
  }
 },
 "nbformat": 4,
 "nbformat_minor": 5
}
