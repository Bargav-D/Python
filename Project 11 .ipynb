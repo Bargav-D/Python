{
 "cells": [
  {
   "cell_type": "code",
   "execution_count": 1,
   "id": "739ec65a-f5d5-4a07-a20e-0a24b394eab4",
   "metadata": {},
   "outputs": [
    {
     "name": "stdout",
     "output_type": "stream",
     "text": [
      "Bargav\n",
      "1AY24AI028\n",
      "M section\n",
      "Kangaroo with pouch contents: [wallet, keys, Kangaroo with pouch contents: []]\n"
     ]
    }
   ],
   "source": [
    "'''Project 11 \n",
    "This exercise is a cautionary tale about one of the most common, and difficult to find, errors in Python. Write a definition for a class named Kangaroo with the following methods: \n",
    "1. An __init__ method that initializes an attribute named pouch_contents to an empty list. \n",
    "2. A method named put_in_pouch that takes an object of any type and adds it to pouch_contents. \n",
    "3. A __str__ method that returns a string representation of the Kangaroo object and the contents of the pouch. \n",
    "Test your code by creating two Kangaroo objects, assigning them to variables named kanga and roo, and then adding roo to the contents of kanga’s pouch.\n",
    "'''\n",
    "print(\"Bargav\")\n",
    "print(\"1AY24AI028\")\n",
    "print(\"M section\")\n",
    "class Kangaroo:\n",
    "    def __init__(self, pouch_contents=None):\n",
    "        \n",
    "        if pouch_contents is None:\n",
    "            self.pouch_contents = []\n",
    "        else:\n",
    "            self.pouch_contents = list(pouch_contents)  \n",
    "\n",
    "    def put_in_pouch(self, item):\n",
    "        self.pouch_contents.append(item)\n",
    "\n",
    "    def __str__(self):\n",
    "        contents = ', '.join(str(item) for item in self.pouch_contents)\n",
    "        return f\"Kangaroo with pouch contents: [{contents}]\"\n",
    "\n",
    "kanga = Kangaroo()\n",
    "roo = Kangaroo()\n",
    "\n",
    "kanga.put_in_pouch(\"wallet\")\n",
    "kanga.put_in_pouch(\"keys\")\n",
    "kanga.put_in_pouch(roo)\n",
    "\n",
    "print(kanga)"
   ]
  },
  {
   "cell_type": "code",
   "execution_count": null,
   "id": "59201d42-f2a3-4b6a-955c-8614a2d94384",
   "metadata": {},
   "outputs": [],
   "source": []
  }
 ],
 "metadata": {
  "kernelspec": {
   "display_name": "Python 3 (ipykernel)",
   "language": "python",
   "name": "python3"
  },
  "language_info": {
   "codemirror_mode": {
    "name": "ipython",
    "version": 3
   },
   "file_extension": ".py",
   "mimetype": "text/x-python",
   "name": "python",
   "nbconvert_exporter": "python",
   "pygments_lexer": "ipython3",
   "version": "3.12.10"
  }
 },
 "nbformat": 4,
 "nbformat_minor": 5
}
