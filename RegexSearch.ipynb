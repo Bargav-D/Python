{
 "cells": [
  {
   "cell_type": "code",
   "execution_count": 1,
   "id": "8c472016-5187-4dc9-8e88-1e0c42ee4225",
   "metadata": {},
   "outputs": [
    {
     "name": "stdout",
     "output_type": "stream",
     "text": [
      "Bargav\n",
      "1AY24AI028\n",
      "M section\n"
     ]
    },
    {
     "name": "stdin",
     "output_type": "stream",
     "text": [
      "Enter any folder name: C:\\Users\\barga\\OneDrive\\Desktop\\Jupyter\n",
      "enter any expression to search: python\n"
     ]
    },
    {
     "name": "stdout",
     "output_type": "stream",
     "text": [
      "File: C:\\Users\\barga\\OneDrive\\Desktop\\Jupyter\\madlibs_output.txt,linne 1: Today I went to the zoo. I saw a(n) beautiful lion jumping up and down in its tree.\n",
      "File: C:\\Users\\barga\\OneDrive\\Desktop\\Jupyter\\madlibs_output.txt,linne 2: He hunt dangers through the large tunnel that led to its zebra.\n",
      "File: C:\\Users\\barga\\OneDrive\\Desktop\\Jupyter\\madlibs_output.txt,linne 3: I got some peanuts and passed them through the cage to a gigantic black and  white india towering above my head.\n",
      "File: C:\\Users\\barga\\OneDrive\\Desktop\\Jupyter\\madlibs_output.txt,linne 4: Feeding that animal made me hungry. I went to get a vast scoop of ice cream.\n",
      "File: C:\\Users\\barga\\OneDrive\\Desktop\\Jupyter\\madlibs_output.txt,linne 5: It country slowly down my arm and onto my bat.\n",
      "Error reading C:\\Users\\barga\\OneDrive\\Desktop\\Jupyter\\spam.txt:[Errno 13] Permission denied: 'C:\\\\Users\\\\barga\\\\OneDrive\\\\Desktop\\\\Jupyter\\\\spam.txt'\n",
      "Error reading C:\\Users\\barga\\OneDrive\\Desktop\\Jupyter\\spam2.txt:[Errno 13] Permission denied: 'C:\\\\Users\\\\barga\\\\OneDrive\\\\Desktop\\\\Jupyter\\\\spam2.txt'\n"
     ]
    }
   ],
   "source": [
    "'''Write a program that opens all .txt files in a folder and searches for any line that matches a user-supplied regular expression. The results should be printed to the screen.'''\n",
    "print(\"Bargav\")\n",
    "print(\"1AY24AI028\")\n",
    "print(\"M section\")\n",
    "import re\n",
    "import os\n",
    "def search(folder,element):\n",
    "    try:\n",
    "        for file in os.listdir(folder):\n",
    "            if file.endswith(\".txt\"):\n",
    "                file=os.path.join(folder,file)\n",
    "                try:\n",
    "                    with open(file,\"r\") as f:\n",
    "                      for linenum, line in enumerate(f,1):\n",
    "                            print(f\"File: {file},linne {linenum}: {line.strip()}\")\n",
    "                except Exception as e:\n",
    "                    print(f\"Error reading {file}:{e}\")\n",
    "    except FileNotFoundError:\n",
    "        print(\"Folder not found\")\n",
    "    except Exception as e:\n",
    "        print(f\"an unexpected error {e}\")\n",
    "folder=input(\"Enter any folder name:\")\n",
    "element=input(\"enter any expression to search:\")\n",
    "search(folder,element)"
   ]
  },
  {
   "cell_type": "code",
   "execution_count": null,
   "id": "2969b3da-882c-48b8-b6af-812d5e163116",
   "metadata": {},
   "outputs": [],
   "source": []
  }
 ],
 "metadata": {
  "kernelspec": {
   "display_name": "Python 3 (ipykernel)",
   "language": "python",
   "name": "python3"
  },
  "language_info": {
   "codemirror_mode": {
    "name": "ipython",
    "version": 3
   },
   "file_extension": ".py",
   "mimetype": "text/x-python",
   "name": "python",
   "nbconvert_exporter": "python",
   "pygments_lexer": "ipython3",
   "version": "3.12.10"
  }
 },
 "nbformat": 4,
 "nbformat_minor": 5
}
