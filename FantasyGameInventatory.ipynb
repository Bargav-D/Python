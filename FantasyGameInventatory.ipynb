{
 "cells": [
  {
   "cell_type": "code",
   "execution_count": 2,
   "id": "59a24abc-61ba-48b5-a7d1-b4b31f3c624e",
   "metadata": {},
   "outputs": [
    {
     "name": "stdout",
     "output_type": "stream",
     "text": [
      "Bargav\n",
      "1AY24AI028\n",
      "M section\n",
      "Inventory:\n",
      "53 gold coin\n",
      "1 supplies\n",
      "6 torch\n",
      "1 dagger\n",
      "1 Dragon fings\n",
      "1 dragon heart\n",
      "Total number of items: 63\n",
      "\n"
     ]
    }
   ],
   "source": [
    "print(\"Bargav\")\n",
    "print(\"1AY24AI028\")\n",
    "print(\"M section\")\n",
    "def display_inventory(inventory):\n",
    "    print(\"Inventory:\")\n",
    "    item_total = 0\n",
    "    for item, count in inventory.items():\n",
    "        print(f\"{count} {item}\")\n",
    "        item_total += count\n",
    "    print(f\"Total number of items: {item_total}\\n\")\n",
    "def add_to_inventory(inventory, added_items):\n",
    "    for item in added_items:\n",
    "        inventory[item] = inventory.get(item, 0) + 1\n",
    "    return inventory\n",
    "inventory = {\n",
    "    'gold coin': 50,\n",
    "    'supplies': 1,\n",
    "    'torch': 6,\n",
    "    'dagger': 1\n",
    "}\n",
    "dragon_loot = ['gold coin', 'Dragon fings', 'gold coin', 'gold coin', 'dragon heart']\n",
    "inventory = add_to_inventory(inventory, dragon_loot)\n",
    "display_inventory(inventory)"
   ]
  },
  {
   "cell_type": "code",
   "execution_count": null,
   "id": "324ebd65-118f-4c2a-8d33-1cc93f85d0c9",
   "metadata": {},
   "outputs": [],
   "source": []
  }
 ],
 "metadata": {
  "kernelspec": {
   "display_name": "Python 3 (ipykernel)",
   "language": "python",
   "name": "python3"
  },
  "language_info": {
   "codemirror_mode": {
    "name": "ipython",
    "version": 3
   },
   "file_extension": ".py",
   "mimetype": "text/x-python",
   "name": "python",
   "nbconvert_exporter": "python",
   "pygments_lexer": "ipython3",
   "version": "3.12.10"
  }
 },
 "nbformat": 4,
 "nbformat_minor": 5
}
